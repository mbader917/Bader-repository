{
 "cells": [
  {
   "cell_type": "code",
   "execution_count": 7,
   "metadata": {},
   "outputs": [],
   "source": [
    "import numpy as np\n",
    "import matplotlib.pyplot as plt\n",
    "from scipy.io import wavfile as wav\n",
    "from scipy.fftpack import fft, fftfreq"
   ]
  },
  {
   "cell_type": "markdown",
   "metadata": {},
   "source": [
    "# Read the file, trim out the silent part, plot it"
   ]
  },
  {
   "cell_type": "markdown",
   "metadata": {},
   "source": [
    "### Read & plot the file, detect the \"silent\" part & cut it out:"
   ]
  },
  {
   "cell_type": "code",
   "execution_count": 419,
   "metadata": {},
   "outputs": [],
   "source": [
    "def soundclip(file, S=4000,w=1000,length=0.2,plotraw=True,plottrim=True):  \n",
    "    \n",
    "    (r,audio_st) = wav.read(file)\n",
    "    audio1 = audio_st[:,0]                                    # convert to mono\n",
    "    if plotraw==True:                                          # plot the audio waves over a time interval\n",
    "        f1 = plt.figure()\n",
    "        ax1 = f1.add_subplot(211)\n",
    "        plt.title('Audio file')\n",
    "        plt.ylabel('Amplitudes')\n",
    "        plt.plot(audio1, color='m')                           \n",
    "        \n",
    "    t = 0                                                      \n",
    "    Y = 0\n",
    "    while t<(len(audio1)-w):                                   # S = volume cutoff for splicing out \"silence\"\n",
    "        interval = abs(audio1[t:t+w])                          # w = width for test intervals\n",
    "        if np.average(interval) <= S:                          # length = the length of the sound that will be kept\n",
    "            t = t+w\n",
    "        else:\n",
    "            break\n",
    "    audio = audio1[t+w:t+w+int(length*r)]                   \n",
    "    file = (r,audio)\n",
    "    if plottrim==True:\n",
    "        f2 = plt.figure()\n",
    "        ax2 = f2.add_subplot(212)\n",
    "        plt.title('Audio - trimmed')\n",
    "        plt.ylabel('Amplitudes')\n",
    "        plt.plot(audio, color='m')\n",
    "    \n",
    "    plt.show()\n",
    "\n",
    "    return(file)"
   ]
  },
  {
   "cell_type": "code",
   "execution_count": 421,
   "metadata": {},
   "outputs": [],
   "source": [
    "#print(soundclip('C major.wav', length=0.3))"
   ]
  },
  {
   "cell_type": "code",
   "execution_count": 425,
   "metadata": {},
   "outputs": [],
   "source": [
    "#print(soundclip('Ef dom7.wav', S=2000, length=0.2))"
   ]
  },
  {
   "cell_type": "code",
   "execution_count": null,
   "metadata": {},
   "outputs": [],
   "source": []
  },
  {
   "cell_type": "code",
   "execution_count": null,
   "metadata": {},
   "outputs": [],
   "source": []
  },
  {
   "cell_type": "markdown",
   "metadata": {},
   "source": [
    "# Fourier transform"
   ]
  },
  {
   "cell_type": "code",
   "execution_count": 111,
   "metadata": {},
   "outputs": [],
   "source": [
    "import pylab"
   ]
  },
  {
   "cell_type": "code",
   "execution_count": 247,
   "metadata": {},
   "outputs": [],
   "source": [
    "def fftaudio(file,plotfft=True):                       # input = the output of soundclip\n",
    "    (r,audio_m) = file\n",
    "    audioft = fft(audio_m)                             # transform\n",
    "    audioreal = abs(audioft)                           # conjugate of the complex values for plotting (amplitudes)\n",
    "    audiopos = audioreal[0:int((len(audioreal)+1)/2)]  # cut out the negatives (just the opposite of the positive values so unnecessary)\n",
    "    audiopos_adjust = audiopos/np.max(audiopos)        # scale the y axis to be from 0 to 1\n",
    "    freq = fftfreq(len(audioreal), 1/r)                # get frequencies\n",
    "                                                            # window length = length of the audio file (after trimmed)\n",
    "                                                            # sample spacing = 1/rate\n",
    "    freqpos = freq[0:int((len(freq)+1)/2)]             # just take the positive ones\n",
    "    \n",
    "    if plotfft==True:\n",
    "        plt.xlabel('frequencies [Hz]')\n",
    "        plt.xscale('log')\n",
    "        pylab.xlim(20, 4200)                           # 20, 4200 = range of piano frequencies\n",
    "        plt.plot(freqpos, audiopos_adjust, color='g')\n",
    "    \n",
    "    return(freqpos, audiopos_adjust)            "
   ]
  },
  {
   "cell_type": "code",
   "execution_count": 428,
   "metadata": {},
   "outputs": [],
   "source": [
    "#fftaudio((soundclip('C major.wav', S=4000,w=1000,length=0.5,plotraw=True,plottrim=True)), plotfft=True)\n",
    "#fftaudio((soundclip('Ef dom7.wav', S=2000,w=1000,length=0.3,plotraw=True,plottrim=True)), plotfft=True)"
   ]
  },
  {
   "cell_type": "markdown",
   "metadata": {},
   "source": [
    "# Process out the main frequencies"
   ]
  },
  {
   "cell_type": "code",
   "execution_count": 261,
   "metadata": {},
   "outputs": [],
   "source": [
    "def cleanup(fftaudio, lim=0.6): # limit is the minimum power needed (after scaling the powers to 1) to accept the frequency\n",
    "    freq = fftaudio[0]\n",
    "    powers1 = fftaudio[1]\n",
    "    powers = powers1/max(powers1)\n",
    "    frequencies1=[]\n",
    "    for i in range(0,len(freq)):                                   # take all frequencies with power above the limit\n",
    "        if powers[i] > lim:\n",
    "            frequencies1.append(freq[i])\n",
    "    \n",
    "    frequencies=[frequencies1[0]]\n",
    "    for j in range(1,len(frequencies1)):                           # there may be multiple frequencies for the same note (ex. 260, 263)\n",
    "        if frequencies1[j]-frequencies[len(frequencies)-1] > 5:    # so this removes potential \"repeats\"\n",
    "            frequencies.append(frequencies1[j])\n",
    "\n",
    "    return(frequencies)"
   ]
  },
  {
   "cell_type": "code",
   "execution_count": 430,
   "metadata": {},
   "outputs": [],
   "source": [
    "# cleanup(fftaudio((soundclip('C major.wav', S=4000,w=1000,length=0.5,plotraw=True,plottrim=True)), plotfft=True), lim=0.6)\n",
    "# cleanup(fftaudio((soundclip('Ef dom7.wav', S=2000,w=1000,length=0.3,plotraw=True,plottrim=True)), plotfft=True), lim=0.6)"
   ]
  },
  {
   "cell_type": "markdown",
   "metadata": {},
   "source": [
    "# Return the frequencies as notes (i.e. 440 --> A)"
   ]
  },
  {
   "cell_type": "markdown",
   "metadata": {},
   "source": [
    "### Some sets that will get used a bunch:\n",
    "* Notes = each note in octave 4, listed by its name, frequency, and numerical position in the scale\n",
    "* letters, fs, and nums are just each such component of Notes"
   ]
  },
  {
   "cell_type": "code",
   "execution_count": 197,
   "metadata": {},
   "outputs": [],
   "source": [
    "Notes = [[\"C\",261.63,1],[\"C#\",277.18,2],[\"D\",293.66,3],[\"Eb\",311.13,4],[\"E\",329.63,5],[\"F\",349.23,6],[\"F#\",369.99,7],[\"G\",392,8],[\"Ab\",415.3,9],[\"A\",440,10],[\"Bb\",466.16,11],[\"B\",493.88,0]]\n",
    "letters = [i[0] for i in Notes]\n",
    "fs = [float(i[1]) for i in Notes]\n",
    "nums = [i[2] for i in Notes]"
   ]
  },
  {
   "cell_type": "markdown",
   "metadata": {},
   "source": [
    "### Set all frequencies to be in octave 4, then match them to their correctly-tuned frequency"
   ]
  },
  {
   "cell_type": "code",
   "execution_count": 198,
   "metadata": {},
   "outputs": [],
   "source": [
    "fs_edge = [254.28]\n",
    "for i in fs:\n",
    "    fs_edge.append(i)\n",
    "fs_edge.append(509)\n",
    "\n",
    "def autotune(frequencies):\n",
    "    octave4 = []\n",
    "    for f in frequencies:\n",
    "        if f < 254.28365:\n",
    "            while f < 254.28365:\n",
    "                f = 2*f\n",
    "        if f >= 508.5672:\n",
    "            while f > 508.5672:\n",
    "                f = 0.5*f\n",
    "        if 254.28365 <= f < 508.5672:\n",
    "            octave4.append(f)\n",
    "    \n",
    "    autotune_notes = []\n",
    "    for f in octave4:\n",
    "        for j in range(1,13):\n",
    "            if (f > (np.average([fs_edge[j],fs_edge[j-1]]))) and (f < (np.average([fs_edge[j],fs_edge[j+1]]))):\n",
    "                autotune_notes.append(Notes[j-1])\n",
    "    return(autotune_notes)"
   ]
  },
  {
   "cell_type": "code",
   "execution_count": 199,
   "metadata": {},
   "outputs": [
    {
     "name": "stdout",
     "output_type": "stream",
     "text": [
      "[['A', 440, 10], ['C', 261.63, 1], ['G', 392, 8]]\n"
     ]
    }
   ],
   "source": [
    "test = np.array([27.5, 1046.502, 391.9954]) # A, C, & G that are slightly off, different octaves\n",
    "auto_test = autotune(test)\n",
    "print(auto_test)"
   ]
  },
  {
   "cell_type": "code",
   "execution_count": 378,
   "metadata": {},
   "outputs": [
    {
     "data": {
      "text/plain": [
       "[['C', 261.63, 1], ['E', 329.63, 5], ['G', 392, 8]]"
      ]
     },
     "execution_count": 378,
     "metadata": {},
     "output_type": "execute_result"
    }
   ],
   "source": [
    "CMfrequencies = cleanup(fftaudio((soundclip('C major.wav', S=4000,w=1000,length=0.5,plotraw=False,plottrim=False)), plotfft=False), lim=0.6)\n",
    "autotune(CMfrequencies)"
   ]
  },
  {
   "cell_type": "code",
   "execution_count": 431,
   "metadata": {},
   "outputs": [
    {
     "data": {
      "text/plain": [
       "[['G', 392, 8], ['Bb', 466.16, 11], ['C#', 277.18, 2], ['Eb', 311.13, 4]]"
      ]
     },
     "execution_count": 431,
     "metadata": {},
     "output_type": "execute_result"
    }
   ],
   "source": [
    "Effrequencies = cleanup(fftaudio((soundclip('Ef dom7.wav', S=2000,w=1000,length=0.3,plotraw=False,plottrim=False)), plotfft=False), lim=0.6)\n",
    "autotune(Effrequencies)"
   ]
  },
  {
   "cell_type": "markdown",
   "metadata": {},
   "source": [
    "# Determine what the chord is & print out its name + notes"
   ]
  },
  {
   "cell_type": "markdown",
   "metadata": {},
   "source": [
    "#### Using the 9 common chord types:\n",
    "\n",
    "* Major triad (0,4,7)\n",
    "* Minor triad (0,3,7)\n",
    "* Diminished (0,3,6)\n",
    "* Major seventh (0,4,7,11)\n",
    "* Minor Seventh (0,3,7,10)\n",
    "* Dominant Seventh (0,4,7,10)\n",
    "* Sus2 (0,2,7)\n",
    "* Sus4 (0,5,7)\n",
    "* Augmented (0,4,8)\n",
    "* No extended / inversions given everything is being squished into one octave)"
   ]
  },
  {
   "cell_type": "markdown",
   "metadata": {},
   "source": [
    "#### A couple test chords"
   ]
  },
  {
   "cell_type": "code",
   "execution_count": 434,
   "metadata": {},
   "outputs": [],
   "source": [
    "A_minor7 = autotune((261.63, 329.63, 392, 440))\n",
    "#print(A_minor7)\n",
    "\n",
    "G_sus4 = autotune((390,261.63,294))\n",
    "#print(G_sus4)\n",
    "\n",
    "CMfrequencies = cleanup(fftaudio((soundclip('C major.wav', S=4000,w=1000,length=0.5,plotraw=False,plottrim=False)), plotfft=False), lim=0.6)\n",
    "C_M = autotune(CMfrequencies)\n",
    "#print(C_M)\n",
    "\n",
    "Effrequencies = cleanup(fftaudio((soundclip('Ef dom7.wav', S=2000,w=1000,length=0.3,plotraw=False,plottrim=False)), plotfft=False), lim=0.6)\n",
    "Ef_dom7 = autotune(Effrequencies)\n",
    "#print(Ef_dom7)"
   ]
  },
  {
   "cell_type": "markdown",
   "metadata": {},
   "source": [
    "### Take the main frequencies as found in the autotune function, print the name/type of chord it makes\n",
    "* Ignoring inversion (having put everything into octave 4)"
   ]
  },
  {
   "cell_type": "code",
   "execution_count": 385,
   "metadata": {},
   "outputs": [],
   "source": [
    "def notes_chord(autotune_notes):           # takes the collection of notes and matches it to the chord it is\n",
    "    nums = [i[2] for i in autotune_notes]\n",
    "    for i in nums:                         # there's only chord the notes are making, but don't know which one would be the root after \"squishing\" them so have to try each configuration\n",
    "        chord_i = [(j-i)%12 for j in nums]       # mod 12\n",
    "        chord_i.sort()                           # put in numerical order --> this gives the spaces between each note with reference to the first one\n",
    "        chord_nums = [(j+i)%12 for j in chord_i] # adding i back, mod 12, gives the OG notes but in the right order\n",
    "        chord_letters = [letters[i-1][0] for i in chord_nums]\n",
    "        \n",
    "        if len(chord_i) == 3:\n",
    "            chord_i = np.append(chord_i,0)\n",
    "        if chord_i[1]==2 and chord_i[2]==7 and chord_i[3]==0:\n",
    "            print(\"{} sus2\" .format(letters[chord_nums[0]-1]))\n",
    "            return(chord_nums,chord_letters, \"sus2\")\n",
    "        if chord_i[1] == 3:\n",
    "            if chord_i[2] == 7 and chord_i[3] == 0:\n",
    "                print(\"{} minor\" .format(letters[chord_nums[0]-1]))\n",
    "                return(chord_nums,chord_letters, \"minor\")\n",
    "            if chord_i[2] == 6 and chord_i[3] == 0:\n",
    "                print(\"{} diminished\" .format(letters[chord_nums[0]-1]))\n",
    "                return(chord_nums,chord_letters, \"diminished\")\n",
    "            if chord_i[2] == 7 and chord_i[3] == 10:\n",
    "                print(\"{} minor seventh\" .format(letters[chord_nums[0]-1]))\n",
    "                return(chord_nums,chord_letters, \"minor seventh\")\n",
    "        if chord_i[1] == 4:\n",
    "            if chord_i[2] == 7 and chord_i[3] == 0:\n",
    "                print(\"{} major\" .format(letters[chord_nums[0]-1]))\n",
    "                return(chord_nums,chord_letters, \"major\")\n",
    "            if chord_i[2] == 7 and chord_i[3] == 11:\n",
    "                print(\"{} major seventh\" .format(letters[chord_nums[0]-1]))\n",
    "                return(chord_nums,chord_letters, \"major seventh\")\n",
    "            if chord_i[2] == 7 and chord_i[3] == 10:\n",
    "                print(\"{} dominant seventh\" .format(letters[chord_nums[0]-1]))\n",
    "                return(chord_nums,chord_letters, \"dominant seventh\")\n",
    "            if chord_i[2] == 8 and chord_i[3] == 0:\n",
    "                print(\"{} augmented\" .format(letters[chord_nums[0]-1]))\n",
    "                return(chord_nums,chord_letters, \"augmented\")\n",
    "        if chord_i[1]==5 and chord_i[2]==7 and chord_i[3]==0:\n",
    "            print(\"{} sus4\" .format(letters[chord_nums[0]-1]))\n",
    "            return(chord_nums,chord_letters, \"sus4\")"
   ]
  },
  {
   "cell_type": "code",
   "execution_count": 436,
   "metadata": {},
   "outputs": [
    {
     "name": "stdout",
     "output_type": "stream",
     "text": [
      "A minor seventh\n",
      "(['A', 'C', 'E', 'G'], 'minor seventh')\n",
      "G sus4\n",
      "(['G', 'C', 'D'], 'sus4')\n",
      "Eb dominant seventh\n",
      "(['E', 'G', 'B', 'C'], 'dominant seventh')\n",
      "C major\n",
      "(['C', 'E', 'G'], 'major')\n"
     ]
    }
   ],
   "source": [
    "# testing it out:\n",
    "print(notes_chord(A_minor7)[1:3])\n",
    "print(notes_chord(G_sus4)[1:3])\n",
    "print(notes_chord(Ef_dom7)[1:3])\n",
    "print(notes_chord(C_M)[1:3])"
   ]
  },
  {
   "cell_type": "markdown",
   "metadata": {},
   "source": [
    "# Picking the keys that fit"
   ]
  },
  {
   "cell_type": "markdown",
   "metadata": {},
   "source": [
    "“elimination round” sort of function that checks which keys have the first note, and then of those remaining, checks which have the second, etc.\n",
    "* just using major & natural minor keys"
   ]
  },
  {
   "cell_type": "code",
   "execution_count": 437,
   "metadata": {},
   "outputs": [],
   "source": [
    "def findmykeys(notes_chord):\n",
    "    keys=[]\n",
    "    tonics = np.arange(1,13) # set integers 1 to 12 to represent the major key tonics\n",
    "    for i in notes_chord[0]: \n",
    "        for j in tonics:\n",
    "            key_j = [(j+n-1)%12 for n in Cn_an] # check which keys contain i (j=1 --> C, j=12 --> B)\n",
    "            if i not in key_j: # if the key doesn't contains i it gets set to 0\n",
    "                tonics[j-1]=0\n",
    "    for j in tonics:\n",
    "        l = letters[j-1]\n",
    "        m = letters[((j+9)%12 - 1)]\n",
    "        if j > 0:\n",
    "            keys.append((\"{} major\" .format(l),j,1))\n",
    "            keys.append((\"{} minor\" .format(m),(j+9)%12,0))\n",
    "            print(\"{} major = {} minor\" .format(l,m))\n",
    "    return(keys)"
   ]
  },
  {
   "cell_type": "code",
   "execution_count": 392,
   "metadata": {},
   "outputs": [
    {
     "name": "stdout",
     "output_type": "stream",
     "text": [
      "G sus4\n",
      "C major = A minor\n",
      "Eb major = C minor\n",
      "F major = D minor\n",
      "G major = E minor\n",
      "Bb major = G minor\n"
     ]
    },
    {
     "data": {
      "text/plain": [
       "[('C major', 1, 1),\n",
       " ('A minor', 10, 0),\n",
       " ('Eb major', 4, 1),\n",
       " ('C minor', 1, 0),\n",
       " ('F major', 6, 1),\n",
       " ('D minor', 3, 0),\n",
       " ('G major', 8, 1),\n",
       " ('E minor', 5, 0),\n",
       " ('Bb major', 11, 1),\n",
       " ('G minor', 8, 0)]"
      ]
     },
     "execution_count": 392,
     "metadata": {},
     "output_type": "execute_result"
    }
   ],
   "source": [
    "#testing it out with known chords\n",
    "\n",
    "findmykeys(notes_chord(G_sus4)) # should get CM=Am (1,10), GM=Em (8,5), FM=Dm (6,3), BfM=Gm (11,8), EfM=Cm (4,1)"
   ]
  },
  {
   "cell_type": "code",
   "execution_count": 376,
   "metadata": {},
   "outputs": [
    {
     "name": "stdout",
     "output_type": "stream",
     "text": [
      "C major = A minor\n",
      "F major = D minor\n",
      "G major = E minor\n"
     ]
    },
    {
     "data": {
      "text/plain": [
       "[('C major', 1, 1),\n",
       " ('A minor', 10, 0),\n",
       " ('F major', 6, 1),\n",
       " ('D minor', 3, 0),\n",
       " ('G major', 8, 1),\n",
       " ('E minor', 5, 0)]"
      ]
     },
     "execution_count": 376,
     "metadata": {},
     "output_type": "execute_result"
    }
   ],
   "source": [
    "findmykeys(notes_chord(A_minor7)) # should get CM=Am, FM=Dm, GM=Em"
   ]
  },
  {
   "cell_type": "markdown",
   "metadata": {},
   "source": [
    "# For each key, determine where in the key that chord fits\n",
    "\n",
    "* a chord relative to a key just becomes a matter of numerical difference.\n",
    "* For example, if the key is C major and the chord is G major, the key's tonic is C=1. The notes are G=8, B=12 and D=3. So the chord, relative to C major, is defined as the notes that have a \"difference\" of 7, 11, and 2 half-steps from the tonic, in other words the V chord (though I'm realizing this means if the key has something like B=12 as its tonic, then C=1 would be a difference of 1, so mod12 is going to come into play here).\n"
   ]
  },
  {
   "cell_type": "code",
   "execution_count": 346,
   "metadata": {},
   "outputs": [],
   "source": [
    "def lockinkey(keys,notes_chord): # for each key, determine where the chord \"locks\" in #yaypuns\n",
    "    notes = notes_chord[0]\n",
    "    name = notes_chord[2]\n",
    "    for key in keys:\n",
    "        incontext = []\n",
    "        for note in notes:\n",
    "            incontext.append((note - key[1])%12)\n",
    "        if incontext[0]==0:\n",
    "            print (key[0],'1', name)\n",
    "        if incontext[0]==2:\n",
    "            print(key[0],'2', name)\n",
    "        if (key[2]==1 and incontext[0]==4) or (key[2]==0 and incontext[0]==3):\n",
    "            print(key[0],'3', name)\n",
    "        if incontext[0]==5:\n",
    "            print(key[0],'4', name)\n",
    "        if incontext[0]==7:\n",
    "            print(key[0],'5', name)\n",
    "        if incontext[0]==9:\n",
    "            print(key[0],'6', name)\n",
    "        if (key[2]==1 and incontext[0]==11) or (key[2]==0 and incontext[0]==10):\n",
    "            print(key[0],'7', name)"
   ]
  },
  {
   "cell_type": "code",
   "execution_count": 415,
   "metadata": {},
   "outputs": [
    {
     "name": "stdout",
     "output_type": "stream",
     "text": [
      "G sus4\n",
      "C major = A minor\n",
      "Eb major = C minor\n",
      "F major = D minor\n",
      "G major = E minor\n",
      "Bb major = G minor\n",
      "G sus4\n",
      "C major 5 sus4\n",
      "A minor 7 sus4\n",
      "Eb major 3 sus4\n",
      "C minor 5 sus4\n",
      "F major 2 sus4\n",
      "D minor 4 sus4\n",
      "G major 1 sus4\n",
      "E minor 3 sus4\n",
      "Bb major 6 sus4\n",
      "G minor 1 sus4\n"
     ]
    }
   ],
   "source": [
    "# testing it out with a known chord\n",
    "lockinkey(findmykeys(notes_chord(G_sus4)), notes_chord(G_sus4))"
   ]
  },
  {
   "cell_type": "markdown",
   "metadata": {},
   "source": []
  },
  {
   "cell_type": "code",
   "execution_count": null,
   "metadata": {},
   "outputs": [],
   "source": []
  },
  {
   "cell_type": "markdown",
   "metadata": {},
   "source": [
    "# Bringing it all together in one function"
   ]
  },
  {
   "cell_type": "markdown",
   "metadata": {},
   "source": [
    "#### And now all the functions are in place to be combined! This function does the following:\n",
    "\n",
    "##### Line 1: \"frequencies\"\n",
    "* takes in an audio file, converts it to mono, & plots this audio data\n",
    "* cuts out the \"silence\" (aka noise in the environment before the chord) & trims the audio to a user-inputted length\n",
    "* through fourier transforms and scaling the powers to (0,1), pinpoints the frequencies above a certain threshold\n",
    "* cuts out any repeated frequencies (aka frequencies that are slightly different but represent the same note)\n",
    "\n",
    "##### Line 2: \"frequencies_4\"\n",
    "* puts all frequencies into the same octave so that any combination of the same objective notes will return the same chord (simplifies for octaves & undoes any inversion to get at the \"original\" baseline chord\n",
    "* tunes each frequency to its nearest exact frequency \n",
    "* Example: 884 Hz will be brought down an octave to 442, and then tuned to A4 = 440 Hz as it's the closest note\n",
    "\n",
    "##### Line 3: \"chordtype\"\n",
    "* identifies the chord by its name, root, & integer notation\n",
    "\n",
    "##### Line 4: \"keystouse\"\n",
    "* determines which standard major/minor keys contain all the notes in this chord\n",
    "* determines the exact way this chord \"fits\" into each such scale \n",
    "* Example: \"A minor 3 major\" means \"in the A minor key, this chord will function as the major triad built up from the 3rd note in the scale\" whereas \"C major 1 major\" is saying \"in C major, this chord is the standard major triad built up from the root\""
   ]
  },
  {
   "cell_type": "code",
   "execution_count": 393,
   "metadata": {},
   "outputs": [],
   "source": [
    "def runitall(file,S=4000,w=1000,length=0.5,plotraw=True,plottrim=True,plotfft=True,lim=0.6):\n",
    "    frequencies = cleanup(fftaudio((soundclip(file,S,w,length,plotraw,plottrim)), plotfft), lim)\n",
    "    frequencies_4 = autotune(frequencies)\n",
    "    chordtype = notes_chord(frequencies_4)\n",
    "    keystouse = findmykeys(chordtype)\n",
    "    chordinkey = lockinkey(keystouse,chordtype)"
   ]
  },
  {
   "cell_type": "code",
   "execution_count": 394,
   "metadata": {},
   "outputs": [
    {
     "data": {
      "image/png": "[encoded data removed]",
      "text/plain": [
       "<Figure size 432x288 with 1 Axes>"
      ]
     },
     "metadata": {
      "needs_background": "light"
     },
     "output_type": "display_data"
    },
    {
     "data": {
      "image/png": "[encoded data removed]",
      "text/plain": [
       "<Figure size 432x288 with 1 Axes>"
      ]
     },
     "metadata": {
      "needs_background": "light"
     },
     "output_type": "display_data"
    },
    {
     "name": "stdout",
     "output_type": "stream",
     "text": [
      "C major\n",
      "C major = A minor\n",
      "F major = D minor\n",
      "G major = E minor\n",
      "C major 1 major\n",
      "A minor 3 major\n",
      "F major 5 major\n",
      "D minor 7 major\n",
      "G major 4 major\n"
     ]
    },
    {
     "data": {
      "image/png": "[encoded data removed]",
      "text/plain": [
       "<Figure size 432x288 with 1 Axes>"
      ]
     },
     "metadata": {
      "needs_background": "light"
     },
     "output_type": "display_data"
    }
   ],
   "source": [
    "runitall('C major.wav') # input = C, E, and G all in octave 4 on the piano"
   ]
  },
  {
   "cell_type": "code",
   "execution_count": 439,
   "metadata": {},
   "outputs": [
    {
     "data": {
      "image/png": "[encoded data removed]",
      "text/plain": [
       "<Figure size 432x288 with 1 Axes>"
      ]
     },
     "metadata": {
      "needs_background": "light"
     },
     "output_type": "display_data"
    },
    {
     "data": {
      "image/png": "[encoded data removed]",
      "text/plain": [
       "<Figure size 432x288 with 1 Axes>"
      ]
     },
     "metadata": {
      "needs_background": "light"
     },
     "output_type": "display_data"
    },
    {
     "name": "stdout",
     "output_type": "stream",
     "text": [
      "Eb dominant seventh\n",
      "Ab major = F minor\n",
      "Ab major 5 dominant seventh\n",
      "F minor 7 dominant seventh\n"
     ]
    },
    {
     "data": {
      "image/png": "[encoded data removed]",
      "text/plain": [
       "<Figure size 432x288 with 1 Axes>"
      ]
     },
     "metadata": {
      "needs_background": "light"
     },
     "output_type": "display_data"
    }
   ],
   "source": [
    "runitall('Ef dom7.wav', S=2000,w=1000,length=0.3,plotraw=True,plottrim=True,plotfft=True,lim=0.6)\n",
    "# input = Ef, G, Bf, Cs in 3 different octaves: Bf-3, Ef-4, G-4, Cs-5\n",
    "# so it should get converted to Cs-4, Ef-4, G-4, B-4 which inverts weirdly to put it all in octave 4\n",
    "# then get identified as Ef augmented despite the order being flipped\n",
    "# then get placed into A flat major (on the 5) / F minor (on the 7)"
   ]
  },
  {
   "cell_type": "markdown",
   "metadata": {},
   "source": [
    "# Hear that chord fit into a chosen key:\n",
    "\n",
    "* Once the function spits out what chords were inputted & all the different ways it can function in different keys, the following function is a way to hear the outcome, inputting the results just given to hear playback of the standard root major/minor chord for the key, followed by the (autotuned, un-inverted) chord, back to the root"
   ]
  },
  {
   "cell_type": "code",
   "execution_count": 464,
   "metadata": {},
   "outputs": [],
   "source": [
    "import math\n",
    "import pyaudio"
   ]
  },
  {
   "cell_type": "code",
   "execution_count": null,
   "metadata": {},
   "outputs": [],
   "source": [
    "scale_notes = {\n",
    "    'C': 261.63, \n",
    "    'C#': 277.18,\n",
    "    'D': 293.66,\n",
    "    'D#': 311.13,\n",
    "    'E': 329.63,\n",
    "    'F': 349.23,\n",
    "    'F#': 369.99,\n",
    "    'G': 329.00,\n",
    "    'G#': 415.30,\n",
    "    'A': 440.00,\n",
    "    'A#': 466.16,\n",
    "    'B': 493.88\n",
    "}\n",
    "\n",
    "note_names = 'cCdDefFgGaAb'\n",
    "\n",
    "def playnote(root, chord):\n",
    "    if chord == \"minor\":\n",
    "        intervals = [0,3,7]\n",
    "    if chord_style == \"major\":\n",
    "        intervals = [0,4,7]\n",
    "    if chord == \"minor seventh\":\n",
    "        intervals = [0,3,7,10]\n",
    "    if chord == \"major seventh\":\n",
    "        intervals = [0,4,7,11]\n",
    "    if chord == \"augmented\":\n",
    "        intervals = [0,4,8]\n",
    "    if chord == \"diminished\":\n",
    "        intervals = [0,3,6]\n",
    "    if chord == \"dominant seventh\":\n",
    "        intervals = [0,7,10]\n",
    "    if chord == \"sus2\":\n",
    "        intervals = [0,2,7]\n",
    "    if chord == \"sus4\":\n",
    "        intervals = [0,5,7]\n",
    "\n",
    "    num_notes = len(chord)\n",
    "\n",
    "    p = pyaudio.PyAudio()  # initialize audio\n",
    "    samplerate = 20000\n",
    "    length = 1  # seconds\n",
    "    frames = int(samplerate*length)\n",
    "\n",
    "    wavedata = ''\n",
    "\n",
    "    # generating waves\n",
    "    stream = p.open(\n",
    "        format=p.get_format_from_width(1),\n",
    "        channels=1,\n",
    "        rate=sample_rate,\n",
    "        output=True)\n",
    "\n",
    "    CHUNK = 256\n",
    "\n",
    "    octave = int(note[1])\n",
    "    frequencies = []\n",
    "    for tone in chord_tones:\n",
    "        chord_note = note_names.index(note[0]) + tone\n",
    "        if chord_note<12:\n",
    "            chord_note = note_names[chord_note]\n",
    "            frequencies.append(scale_notes[chord_note] * (2**(octave + 1)))\n",
    "            print(frequencies)\n",
    "        else:\n",
    "            chord_note = note_names[chord_note-12]\n",
    "            frequencies.append( scale_notes[chord_note] * (2**(octave + 2)))\n",
    "            print(frequencies)\n",
    "\n",
    "    y=0\n",
    "    for x in range(frames//CHUNK):\n",
    "        n=0\n",
    "        wavedata=b''\n",
    "        while n<CHUNK:\n",
    "            wave=0\n",
    "            for freqs in frequencies:\n",
    "                wave += math.sin((y) / ((sample_rate / freqs) / math.pi)) * 127 + 128\n",
    "            wave = wave/num_notes\n",
    "            wavedata += bytes([int(wave)])\n",
    "            y+=1\n",
    "            n+=1\n",
    "\n",
    "        stream.write(wavedata)\n",
    "\n",
    "    stream.stop_stream()\n",
    "    stream.close()\n",
    "    p.terminate()\n",
    "\n",
    "\n",
    "song = []\n",
    "while True:\n",
    "    song_composing = True\n",
    "    note = ''\n",
    "    while note != 'p':\n",
    "        note = str(input(\n",
    "            'Enter note (a-G) (capital for sharp) and an octave (0-8) or any other key to play: '))\n",
    "        if note[0] in scale_notes:\n",
    "            chord_style = str(\n",
    "                input('Enter chord quality (maj, min, five): '))\n",
    "            song.append((note, chord_style))\n",
    "            playnote(note, chord_style)\n",
    "\n",
    "    for chord in song:\n",
    "        playnote(chord[0], chord[1])\n",
    "    break"
   ]
  },
  {
   "cell_type": "code",
   "execution_count": null,
   "metadata": {},
   "outputs": [],
   "source": []
  },
  {
   "cell_type": "code",
   "execution_count": null,
   "metadata": {},
   "outputs": [],
   "source": []
  }
 ],
 "metadata": {
  "kernelspec": {
   "display_name": "Python 3",
   "language": "python",
   "name": "python3"
  },
  "language_info": {
   "codemirror_mode": {
    "name": "ipython",
    "version": 3
   },
   "file_extension": ".py",
   "mimetype": "text/x-python",
   "name": "python",
   "nbconvert_exporter": "python",
   "pygments_lexer": "ipython3",
   "version": "3.7.3"
  }
 },
 "nbformat": 4,
 "nbformat_minor": 2
}
